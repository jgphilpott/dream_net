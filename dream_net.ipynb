{
 "cells": [
  {
   "cell_type": "markdown",
   "metadata": {},
   "source": [
    "# Installs\n",
    "\n",
    "If necessary, install all of the required modules."
   ]
  },
  {
   "cell_type": "code",
   "execution_count": null,
   "metadata": {},
   "outputs": [],
   "source": [
    "pip install tensorflow"
   ]
  },
  {
   "cell_type": "code",
   "execution_count": null,
   "metadata": {},
   "outputs": [],
   "source": [
    "pip install matplotlib"
   ]
  },
  {
   "cell_type": "markdown",
   "metadata": {
    "id": "3V7yaPeV9rT1"
   },
   "source": [
    "# Imports\n",
    "\n",
    "Import all of the required modules."
   ]
  },
  {
   "cell_type": "code",
   "execution_count": null,
   "metadata": {
    "id": "UAhgHi1A3Yva"
   },
   "outputs": [],
   "source": [
    "import tensorflow as tf\n",
    "import matplotlib.pyplot as plt"
   ]
  },
  {
   "cell_type": "markdown",
   "metadata": {
    "id": "YzyHos9i9_aV"
   },
   "source": [
    "# Inputs\n",
    "\n",
    "Provide the path for the content and style images."
   ]
  },
  {
   "cell_type": "code",
   "execution_count": null,
   "metadata": {
    "id": "vgXd-iv6zqlF"
   },
   "outputs": [],
   "source": [
    "content_image_path = \"content.jpg\"\n",
    "style_image_path = \"style.jpg\""
   ]
  },
  {
   "cell_type": "markdown",
   "metadata": {
    "id": "k9KKHbLH-76M"
   },
   "source": [
    "# Getting Started\n",
    "\n",
    "To begin we need to load our input images and see how they look. The two functions below will help us do just that!"
   ]
  },
  {
   "cell_type": "markdown",
   "metadata": {
    "id": "pWCgGjuODv3p"
   },
   "source": [
    "## Load Image\n",
    "\n",
    "This function will load the image at the given path and resize it to the given max size (500px by default)."
   ]
  },
  {
   "cell_type": "code",
   "execution_count": null,
   "metadata": {
    "id": "C5amTSYV2Prf"
   },
   "outputs": [],
   "source": [
    "def load_image(path_to_image, max_size=500):\n",
    "\n",
    "  def resize_image(image):\n",
    "\n",
    "    shape = tf.cast(tf.shape(image)[:-1], tf.float32)\n",
    "    scale = max_size / max(shape)\n",
    "\n",
    "    new_shape = tf.cast(shape * scale, tf.int32) \n",
    "\n",
    "    return tf.image.resize(image, new_shape)[tf.newaxis, :]\n",
    "\n",
    "  image = tf.io.read_file(path_to_image)\n",
    "  image = tf.image.decode_image(image, channels=3)\n",
    "  image = tf.image.convert_image_dtype(image, tf.float32)\n",
    "\n",
    "  return resize_image(image)"
   ]
  },
  {
   "cell_type": "markdown",
   "metadata": {
    "id": "tonVwR9WElrU"
   },
   "source": [
    "## Show Image\n",
    "\n",
    "This function will simply display the given image with an optional title."
   ]
  },
  {
   "cell_type": "code",
   "execution_count": null,
   "metadata": {
    "id": "Jp7PU_Lf7qI7"
   },
   "outputs": [],
   "source": [
    "def show_image(image, title=\"\"):\n",
    "\n",
    "  image = tf.squeeze(image, axis=0)\n",
    "\n",
    "  plt.title(title)\n",
    "  plt.imshow(image)"
   ]
  },
  {
   "cell_type": "markdown",
   "metadata": {
    "id": "PYvBplMeE7qz"
   },
   "source": [
    "### The Content Image\n",
    "\n",
    "The code block below will load and display the content image from the path provided, as well as print the image shape."
   ]
  },
  {
   "cell_type": "code",
   "execution_count": null,
   "metadata": {
    "colab": {
     "base_uri": "https://localhost:8080/",
     "height": 298
    },
    "id": "q0lDWeVc2kkr",
    "outputId": "378cc930-96b5-4f23-da17-c5528adc3895"
   },
   "outputs": [],
   "source": [
    "content_image = load_image(content_image_path)\n",
    "show_image(content_image, \"Content Image\")\n",
    "print(content_image.shape)"
   ]
  },
  {
   "cell_type": "markdown",
   "metadata": {
    "id": "4BtUW777Ft_4"
   },
   "source": [
    "### The Style Image\n",
    "\n",
    "The code block below will load and display the style image from the path provided, as well as print the image shape."
   ]
  },
  {
   "cell_type": "code",
   "execution_count": null,
   "metadata": {
    "colab": {
     "base_uri": "https://localhost:8080/",
     "height": 298
    },
    "id": "DRamXl1R3S5Q",
    "outputId": "cbeb3347-4bcc-47db-8a9d-99ecee48412b"
   },
   "outputs": [],
   "source": [
    "style_image = load_image(style_image_path)\n",
    "show_image(style_image, \"Style Image\")\n",
    "print(style_image.shape)"
   ]
  }
 ],
 "metadata": {
  "colab": {
   "collapsed_sections": [],
   "name": "dream_net",
   "provenance": []
  },
  "kernelspec": {
   "display_name": "Python 3",
   "language": "python",
   "name": "python3"
  },
  "language_info": {
   "codemirror_mode": {
    "name": "ipython",
    "version": 3
   },
   "file_extension": ".py",
   "mimetype": "text/x-python",
   "name": "python",
   "nbconvert_exporter": "python",
   "pygments_lexer": "ipython3",
   "version": "3.8.6"
  }
 },
 "nbformat": 4,
 "nbformat_minor": 1
}
