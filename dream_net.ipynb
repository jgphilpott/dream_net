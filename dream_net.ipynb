{
 "cells": [
  {
   "cell_type": "markdown",
   "metadata": {
    "id": "6jySCx7r-D68"
   },
   "source": [
    "# Installs\n",
    "\n",
    "If necessary, install all of the required modules."
   ]
  },
  {
   "cell_type": "code",
   "execution_count": null,
   "metadata": {
    "colab": {
     "base_uri": "https://localhost:8080/"
    },
    "id": "FdV6FfyK-D7B",
    "outputId": "c6e1f94b-fb9b-4493-e93e-53444c8c10e8"
   },
   "outputs": [],
   "source": [
    "pip install numpy"
   ]
  },
  {
   "cell_type": "code",
   "execution_count": null,
   "metadata": {
    "colab": {
     "base_uri": "https://localhost:8080/"
    },
    "id": "ZS5l3AGtAPvD",
    "outputId": "8263e36a-6113-4b46-c270-c88559322d1e"
   },
   "outputs": [],
   "source": [
    "pip install Pillow"
   ]
  },
  {
   "cell_type": "code",
   "execution_count": null,
   "metadata": {
    "colab": {
     "base_uri": "https://localhost:8080/"
    },
    "id": "BkA5zbc-A0_k",
    "outputId": "63c2922c-59d7-4a3e-ad1b-cf807968dea3"
   },
   "outputs": [],
   "source": [
    "pip install tensorflow"
   ]
  },
  {
   "cell_type": "code",
   "execution_count": null,
   "metadata": {
    "colab": {
     "base_uri": "https://localhost:8080/"
    },
    "id": "8oS4sTzN-D7C",
    "outputId": "65bfdf01-d7ca-44de-e199-9d8f2b811961"
   },
   "outputs": [],
   "source": [
    "pip install tensorflow_hub"
   ]
  },
  {
   "cell_type": "code",
   "execution_count": null,
   "metadata": {
    "colab": {
     "base_uri": "https://localhost:8080/"
    },
    "id": "pcEdyDZW-D7C",
    "outputId": "47b65bf2-a598-4936-e0b9-98c652ebb7c5"
   },
   "outputs": [],
   "source": [
    "pip install matplotlib"
   ]
  },
  {
   "cell_type": "markdown",
   "metadata": {
    "id": "3V7yaPeV9rT1"
   },
   "source": [
    "# Imports\n",
    "\n",
    "Import all of the required modules."
   ]
  },
  {
   "cell_type": "code",
   "execution_count": null,
   "metadata": {
    "id": "UAhgHi1A3Yva"
   },
   "outputs": [],
   "source": [
    "import os\n",
    "import numpy as np\n",
    "from PIL import Image\n",
    "import tensorflow as tf\n",
    "import tensorflow_hub as hub\n",
    "import matplotlib.pyplot as plt\n"
   ]
  },
  {
   "cell_type": "markdown",
   "metadata": {
    "id": "YzyHos9i9_aV"
   },
   "source": [
    "# Inputs\n",
    "\n",
    "Provide the path for the content and style images."
   ]
  },
  {
   "cell_type": "code",
   "execution_count": null,
   "metadata": {
    "id": "vgXd-iv6zqlF"
   },
   "outputs": [],
   "source": [
    "content_image_path = \"content.jpg\"\n",
    "style_image_path = \"style.jpg\""
   ]
  },
  {
   "cell_type": "markdown",
   "metadata": {
    "id": "k9KKHbLH-76M"
   },
   "source": [
    "# Getting Started\n",
    "\n",
    "To begin we need to load our input images and see how they look. The two functions below will help us do just that!"
   ]
  },
  {
   "cell_type": "markdown",
   "metadata": {
    "id": "pWCgGjuODv3p"
   },
   "source": [
    "## Load Image\n",
    "\n",
    "This function will load the image at the given path and resize it to the given max size (500px by default)."
   ]
  },
  {
   "cell_type": "code",
   "execution_count": null,
   "metadata": {
    "id": "C5amTSYV2Prf"
   },
   "outputs": [],
   "source": [
    "def load_image(path_to_image, max_size=500):\n",
    "\n",
    "  def resize_image(image):\n",
    "\n",
    "    shape = tf.cast(tf.shape(image)[:-1], tf.float32)\n",
    "    scale = max_size / max(shape)\n",
    "    new_shape = tf.cast(shape * scale, tf.int32) \n",
    "\n",
    "    return tf.image.resize(image, new_shape)[tf.newaxis, :]\n",
    "\n",
    "  image = tf.io.read_file(path_to_image)\n",
    "  image = tf.image.decode_image(image, channels=3)\n",
    "  image = tf.image.convert_image_dtype(image, tf.float32)\n",
    "\n",
    "  return resize_image(image)"
   ]
  },
  {
   "cell_type": "markdown",
   "metadata": {
    "id": "tonVwR9WElrU"
   },
   "source": [
    "## Show Image\n",
    "\n",
    "This function will simply display the given image with an optional title."
   ]
  },
  {
   "cell_type": "code",
   "execution_count": null,
   "metadata": {
    "id": "Jp7PU_Lf7qI7"
   },
   "outputs": [],
   "source": [
    "def show_image(image, title=\"\"):\n",
    "\n",
    "  image = tf.squeeze(image, axis=0)\n",
    "\n",
    "  plt.title(title)\n",
    "  plt.imshow(image)"
   ]
  },
  {
   "cell_type": "markdown",
   "metadata": {
    "id": "PYvBplMeE7qz"
   },
   "source": [
    "### The Content Image\n",
    "\n",
    "The code block below will load and display the content image from the path provided, as well as print the image shape."
   ]
  },
  {
   "cell_type": "code",
   "execution_count": null,
   "metadata": {
    "colab": {
     "base_uri": "https://localhost:8080/",
     "height": 298
    },
    "id": "q0lDWeVc2kkr",
    "outputId": "83996c2f-98b9-4453-e95d-0796166ef856"
   },
   "outputs": [],
   "source": [
    "content_image = load_image(content_image_path)\n",
    "show_image(content_image, \"Content Image\")\n",
    "print(content_image.shape)"
   ]
  },
  {
   "cell_type": "markdown",
   "metadata": {
    "id": "4BtUW777Ft_4"
   },
   "source": [
    "### The Style Image\n",
    "\n",
    "The code block below will load and display the style image from the path provided, as well as print the image shape."
   ]
  },
  {
   "cell_type": "code",
   "execution_count": null,
   "metadata": {
    "colab": {
     "base_uri": "https://localhost:8080/",
     "height": 256
    },
    "id": "DRamXl1R3S5Q",
    "outputId": "bdd0824a-e47e-4d22-fa77-0c1804bbb2ce"
   },
   "outputs": [],
   "source": [
    "style_image = load_image(style_image_path)\n",
    "show_image(style_image, \"Style Image\")\n",
    "print(style_image.shape)"
   ]
  },
  {
   "cell_type": "markdown",
   "metadata": {
    "id": "Lb1URUJ7-D7G"
   },
   "source": [
    "# Load the Models\n",
    "\n",
    "Load the pretrained image stylization models from TensorFlow Hub."
   ]
  },
  {
   "cell_type": "code",
   "execution_count": null,
   "metadata": {
    "id": "kauyLsB--D7G"
   },
   "outputs": [],
   "source": [
    "os.environ[\"TFHUB_MODEL_LOAD_FORMAT\"] = \"COMPRESSED\""
   ]
  },
  {
   "cell_type": "code",
   "execution_count": null,
   "metadata": {
    "id": "en0QhNwO-D7G"
   },
   "outputs": [],
   "source": [
    "hub_model_one = hub.load(\"https://tfhub.dev/google/magenta/arbitrary-image-stylization-v1-256/1\")"
   ]
  },
  {
   "cell_type": "code",
   "execution_count": null,
   "metadata": {
    "id": "neAjNm_F-D7G"
   },
   "outputs": [],
   "source": [
    "hub_model_two = hub.load(\"https://tfhub.dev/google/magenta/arbitrary-image-stylization-v1-256/2\")"
   ]
  },
  {
   "cell_type": "markdown",
   "metadata": {
    "id": "eZfGR3hC-D7H"
   },
   "source": [
    "# Stylize the Images\n",
    "\n",
    "The code blocks below will fit the content and style images to the two different models and display the results."
   ]
  },
  {
   "cell_type": "markdown",
   "metadata": {
    "id": "gu_8JHv5fGyC"
   },
   "source": [
    "## View Model One"
   ]
  },
  {
   "cell_type": "code",
   "execution_count": null,
   "metadata": {
    "colab": {
     "base_uri": "https://localhost:8080/",
     "height": 281
    },
    "id": "aZtt1EkF-D7H",
    "outputId": "c28309cb-1b27-423d-b848-e7a04b8cdedf"
   },
   "outputs": [],
   "source": [
    "stylized_image_one = hub_model_one(tf.constant(content_image), tf.constant(style_image))[0]\n",
    "show_image(stylized_image_one, \"Stylized Image One\")"
   ]
  },
  {
   "cell_type": "markdown",
   "metadata": {
    "id": "Ta8vjoaVfMg8"
   },
   "source": [
    "## View Model Two"
   ]
  },
  {
   "cell_type": "code",
   "execution_count": null,
   "metadata": {
    "colab": {
     "base_uri": "https://localhost:8080/",
     "height": 281
    },
    "id": "NWOUd3iH-_Er",
    "outputId": "b2e13569-31de-4fdc-b4cb-74a68bca2674"
   },
   "outputs": [],
   "source": [
    "stylized_image_two = hub_model_two(tf.constant(content_image), tf.constant(style_image))[0]\n",
    "show_image(stylized_image_two, \"Stylized Image Two\")"
   ]
  },
  {
   "cell_type": "markdown",
   "metadata": {
    "id": "YSJJi7H0_0A0"
   },
   "source": [
    "# Save\n",
    "\n",
    "If you're happy with the results you can save one or both of the outputs with the code blocks below."
   ]
  },
  {
   "cell_type": "markdown",
   "metadata": {
    "id": "FMIqC9DwgGt3"
   },
   "source": [
    "## Save Image One"
   ]
  },
  {
   "cell_type": "code",
   "execution_count": null,
   "metadata": {
    "id": "-I-uEfpA-D7H"
   },
   "outputs": [],
   "source": [
    "Image.fromarray(np.array(stylized_image_one * 255, dtype=np.uint8)[0]).save(\"stylized_image_one.jpg\")"
   ]
  },
  {
   "cell_type": "markdown",
   "metadata": {
    "id": "HLXDmWeJgHon"
   },
   "source": [
    "## Save Image Two"
   ]
  },
  {
   "cell_type": "code",
   "execution_count": null,
   "metadata": {
    "id": "8XfsjzCo_zIC"
   },
   "outputs": [],
   "source": [
    "Image.fromarray(np.array(stylized_image_two * 255, dtype=np.uint8)[0]).save(\"stylized_image_two.jpg\")"
   ]
  }
 ],
 "metadata": {
  "colab": {
   "collapsed_sections": [],
   "name": "dream_net.ipynb",
   "provenance": [],
   "toc_visible": true
  },
  "kernelspec": {
   "display_name": "Python 3",
   "language": "python",
   "name": "python3"
  },
  "language_info": {
   "codemirror_mode": {
    "name": "ipython",
    "version": 3
   },
   "file_extension": ".py",
   "mimetype": "text/x-python",
   "name": "python",
   "nbconvert_exporter": "python",
   "pygments_lexer": "ipython3",
   "version": "3.8.6"
  }
 },
 "nbformat": 4,
 "nbformat_minor": 1
}
